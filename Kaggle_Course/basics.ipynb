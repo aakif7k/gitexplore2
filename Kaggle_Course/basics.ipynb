{
 "cells": [
  {
   "cell_type": "code",
   "execution_count": 1,
   "id": "d45de792-ae1b-4efc-9c9c-341fcc5a6ac3",
   "metadata": {},
   "outputs": [
    {
     "name": "stdout",
     "output_type": "stream",
     "text": [
      "hello , Everyone\n"
     ]
    }
   ],
   "source": [
    "print(\"hello , Everyone\")"
   ]
  },
  {
   "cell_type": "code",
   "execution_count": 2,
   "id": "a72d0096-f6af-4750-a37e-e75cb39440c3",
   "metadata": {
    "collapsed": true,
    "jupyter": {
     "outputs_hidden": true
    },
    "scrolled": true
   },
   "outputs": [
    {
     "name": "stdout",
     "output_type": "stream",
     "text": [
      "Help on built-in function print in module builtins:\n",
      "\n",
      "print(*args, sep=' ', end='\\n', file=None, flush=False)\n",
      "    Prints the values to a stream, or to sys.stdout by default.\n",
      "\n",
      "    sep\n",
      "      string inserted between values, default a space.\n",
      "    end\n",
      "      string appended after the last value, default a newline.\n",
      "    file\n",
      "      a file-like object (stream); defaults to the current sys.stdout.\n",
      "    flush\n",
      "      whether to forcibly flush the stream.\n",
      "\n"
     ]
    }
   ],
   "source": [
    "help(print)\n"
   ]
  },
  {
   "cell_type": "code",
   "execution_count": 5,
   "id": "77911ce5-bbf5-46dd-b975-15fd0edf3fcb",
   "metadata": {
    "scrolled": true
   },
   "outputs": [
    {
     "name": "stdout",
     "output_type": "stream",
     "text": [
      "9\n"
     ]
    }
   ],
   "source": [
    "a = 1 \n",
    "b = 10\n",
    "c = 100\n",
    "def least_difference(a,b,c):\n",
    "    diff_1 = abs(a - b)\n",
    "    diff_2 = abs(a - c)\n",
    "    diff_3 = abs(b - c)\n",
    "    return min(diff_1 , diff_2 , diff_3)\n",
    "\n",
    "print(least_difference(a,b,c))    "
   ]
  },
  {
   "cell_type": "code",
   "execution_count": 10,
   "id": "b348f3b1-7e17-41f3-94e6-6c9850d6457e",
   "metadata": {
    "scrolled": true
   },
   "outputs": [
    {
     "name": "stdout",
     "output_type": "stream",
     "text": [
      "9 0 1\n"
     ]
    }
   ],
   "source": [
    "def least_difference(a,b,c):\n",
    "    diff_1 = abs(a - b)\n",
    "    diff_2 = abs(a - c)\n",
    "    diff_3 = abs(b - c)\n",
    "    return min(diff_1 , diff_2 , diff_3)\n",
    "\n",
    "print(\n",
    "    least_difference(1,10,100),\n",
    "    least_difference(1,10,10),\n",
    "    least_difference(5,6,7)\n",
    ")    "
   ]
  },
  {
   "cell_type": "code",
   "execution_count": 13,
   "id": "914c17fd-c175-4467-a8b7-6d8b7dc51ace",
   "metadata": {},
   "outputs": [
    {
     "name": "stdout",
     "output_type": "stream",
     "text": [
      "hello Aakif\n",
      "hello deebak\n",
      "hello SHREYAS\n"
     ]
    }
   ],
   "source": [
    "def greet(who = \"Aakif\"):\n",
    "    print(\"hello\" , who)\n",
    "    \n",
    "greet()\n",
    "greet(who=\"deebak\")\n",
    "\n",
    "greet(\"SHREYAS\")"
   ]
  },
  {
   "cell_type": "code",
   "execution_count": null,
   "id": "bd43c061-21ba-4004-a65f-c38569d6a1de",
   "metadata": {},
   "outputs": [],
   "source": [
    "#palindrome\n",
    "def is_pal(word):\n",
    "    word = work.lower()\n"
   ]
  }
 ],
 "metadata": {
  "kernelspec": {
   "display_name": "Python 3 (ipykernel)",
   "language": "python",
   "name": "python3"
  },
  "language_info": {
   "codemirror_mode": {
    "name": "ipython",
    "version": 3
   },
   "file_extension": ".py",
   "mimetype": "text/x-python",
   "name": "python",
   "nbconvert_exporter": "python",
   "pygments_lexer": "ipython3",
   "version": "3.13.5"
  }
 },
 "nbformat": 4,
 "nbformat_minor": 5
}
