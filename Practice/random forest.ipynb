{
 "cells": [
  {
   "metadata": {
    "ExecuteTime": {
     "end_time": "2025-08-04T04:19:30.213857Z",
     "start_time": "2025-08-04T04:19:29.767293Z"
    }
   },
   "cell_type": "code",
   "source": "path = r'/practice/house_data.csv'",
   "id": "3eb8e68bbf889894",
   "outputs": [],
   "execution_count": 1
  },
  {
   "metadata": {
    "collapsed": true,
    "ExecuteTime": {
     "end_time": "2025-08-04T04:19:31.213348Z",
     "start_time": "2025-08-04T04:19:30.226976Z"
    }
   },
   "cell_type": "code",
   "source": [
    "import pandas as pd\n",
    "from sklearn.model_selection import train_test_split\n",
    "from sklearn.metrics import mean_absolute_error\n",
    "\n",
    "dataset = pd.read_csv(path)\n",
    "dataset = dataset.dropna(axis = 0)\n",
    "\n",
    "#creating target object 'y'\n",
    "y = dataset.Price\n",
    "\n",
    "#create X (which is going to input for our code)\n",
    "specs = ['Rooms', 'Bathroom', 'Landsize', 'Lattitude', 'Longtitude' ]\n",
    "X = dataset[specs]\n",
    "\n",
    "#split the data into training set and validation set\n",
    "train_X , val_X , train_y , val_y = train_test_split(X, y, random_state = 42)"
   ],
   "id": "initial_id",
   "outputs": [],
   "execution_count": 2
  },
  {
   "metadata": {
    "ExecuteTime": {
     "end_time": "2025-08-04T04:19:32.526042Z",
     "start_time": "2025-08-04T04:19:31.222570Z"
    }
   },
   "cell_type": "code",
   "source": [
    "#build model (random forest)\n",
    "from sklearn.ensemble import RandomForestRegressor\n",
    "\n",
    "model = RandomForestRegressor(random_state=42)\n",
    "model.fit(train_X, train_y)\n",
    "prediction = model.predict(val_X)\n",
    "mae = mean_absolute_error(val_y, prediction)\n",
    "\n",
    "print(mae)"
   ],
   "id": "832fcc59b32cf4ac",
   "outputs": [
    {
     "name": "stdout",
     "output_type": "stream",
     "text": [
      "188379.909836761\n"
     ]
    }
   ],
   "execution_count": 3
  }
 ],
 "metadata": {
  "kernelspec": {
   "display_name": "Python 3",
   "language": "python",
   "name": "python3"
  },
  "language_info": {
   "codemirror_mode": {
    "name": "ipython",
    "version": 2
   },
   "file_extension": ".py",
   "mimetype": "text/x-python",
   "name": "python",
   "nbconvert_exporter": "python",
   "pygments_lexer": "ipython2",
   "version": "2.7.6"
  }
 },
 "nbformat": 4,
 "nbformat_minor": 5
}
