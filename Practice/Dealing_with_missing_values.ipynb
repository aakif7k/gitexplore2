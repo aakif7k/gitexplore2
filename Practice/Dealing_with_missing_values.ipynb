{
 "cells": [
  {
   "cell_type": "code",
   "id": "initial_id",
   "metadata": {
    "collapsed": true,
    "ExecuteTime": {
     "end_time": "2025-08-04T05:45:19.289065Z",
     "start_time": "2025-08-04T05:45:19.246023Z"
    }
   },
   "source": [
    "import numpy as np\n",
    "import pandas as pd\n",
    "from sklearn.model_selection import train_test_split\n",
    "dataset = pd.read_csv('melb_data.csv')\n",
    "\n",
    "#select target data\n",
    "y = dataset.Price\n",
    "#to make simply my dataset columns I just removed only object items\n",
    "predictions = dataset.drop(['Price'], axis=1)\n",
    "X = predictions.select_dtypes(exclude=['object'])\n",
    "X_train, X_test , y_train , y_test = train_test_split(X , y , train_size=0.8 , test_size=0.2, random_state = 1)"
   ],
   "outputs": [],
   "execution_count": 24
  },
  {
   "metadata": {
    "ExecuteTime": {
     "end_time": "2025-08-04T05:45:19.296250Z",
     "start_time": "2025-08-04T05:45:19.293528Z"
    }
   },
   "cell_type": "code",
   "source": [
    "from sklearn.ensemble import RandomForestRegressor\n",
    "from sklearn.metrics import mean_absolute_error\n",
    "\n",
    "def score(X_train, X_test, y_train, y_test):\n",
    "    model = RandomForestRegressor(n_estimators=10 , random_state=1)\n",
    "    model.fit(X_train, y_train)\n",
    "    preds = model.predict(X_test)\n",
    "    return mean_absolute_error(y_test , preds)\n"
   ],
   "id": "c061618d27532820",
   "outputs": [],
   "execution_count": 25
  },
  {
   "metadata": {
    "ExecuteTime": {
     "end_time": "2025-08-04T05:45:19.706089Z",
     "start_time": "2025-08-04T05:45:19.302390Z"
    }
   },
   "cell_type": "code",
   "source": [
    "# 1st approach (Drop Columns with Missing Values)\n",
    "drop_cols = [ col for col in X_train.columns\n",
    "                if X_train[col].isnull().any() ]\n",
    "\n",
    "reduced_X_train = (X_train.drop\n",
    "                   (drop_cols , axis=1))\n",
    "reduced_X_test = X_test.drop(drop_cols , axis=1)\n",
    "\n",
    "print(\"MAE form approach 1 is\" , score(reduced_X_train, reduced_X_test, y_train, y_test))"
   ],
   "id": "8adfb3564cc75f0d",
   "outputs": [
    {
     "name": "stdout",
     "output_type": "stream",
     "text": [
      "MAE form approach 1 is 187082.57548478153\n"
     ]
    }
   ],
   "execution_count": 26
  },
  {
   "metadata": {
    "ExecuteTime": {
     "end_time": "2025-08-04T05:45:20.245682Z",
     "start_time": "2025-08-04T05:45:19.711961Z"
    }
   },
   "cell_type": "code",
   "source": [
    "#2nd approach (imputation)\n",
    "from sklearn.impute import SimpleImputer\n",
    "\n",
    "my_imputer = SimpleImputer()\n",
    "imputed_X_train = pd.DataFrame(my_imputer.fit_transform(X_train))\n",
    "imputed_X_test = pd.DataFrame(my_imputer.transform(X_test))\n",
    "\n",
    "imputed_X_train.columns = X_train.columns\n",
    "imputed_X_test.columns = X_test.columns\n",
    "\n",
    "print(\"MAE from approach 2 is \", score(imputed_X_train, imputed_X_test, y_train, y_test))"
   ],
   "id": "1656174f81bc0d15",
   "outputs": [
    {
     "name": "stdout",
     "output_type": "stream",
     "text": [
      "MAE from approach 2 is  174917.69150711832\n"
     ]
    }
   ],
   "execution_count": 27
  },
  {
   "metadata": {
    "ExecuteTime": {
     "end_time": "2025-08-04T05:45:20.251888Z",
     "start_time": "2025-08-04T05:45:20.249978Z"
    }
   },
   "cell_type": "code",
   "source": [
    "#3rd approach (An Extension to Imputation)\n",
    "\n"
   ],
   "id": "17b8dca4dcef13fe",
   "outputs": [],
   "execution_count": 28
  }
 ],
 "metadata": {
  "kernelspec": {
   "display_name": "Python 3",
   "language": "python",
   "name": "python3"
  },
  "language_info": {
   "codemirror_mode": {
    "name": "ipython",
    "version": 2
   },
   "file_extension": ".py",
   "mimetype": "text/x-python",
   "name": "python",
   "nbconvert_exporter": "python",
   "pygments_lexer": "ipython2",
   "version": "2.7.6"
  }
 },
 "nbformat": 4,
 "nbformat_minor": 5
}
