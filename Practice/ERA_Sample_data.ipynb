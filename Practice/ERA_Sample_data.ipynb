{
 "cells": [
  {
   "cell_type": "code",
   "id": "initial_id",
   "metadata": {
    "collapsed": true,
    "ExecuteTime": {
     "end_time": "2025-08-04T10:17:15.515278Z",
     "start_time": "2025-08-04T10:17:15.485230Z"
    }
   },
   "source": [
    "# 1) Import libraries\n",
    "import pandas as pd\n",
    "from sklearn.model_selection import train_test_split\n",
    "from sklearn.ensemble import RandomForestRegressor\n",
    "from sklearn.metrics import mean_absolute_error\n",
    "\n",
    "file_path = \"ERA_Sample_Data_from_Customer.xlsx\"\n",
    "data = pd.read_excel(file_path)\n",
    "\n",
    "y = data['CostOfEnergy']\n",
    "X = data.drop(columns=['CostOfEnergy'])\n",
    "\n",
    "# 4) Split the dataset into training and testing sets\n",
    "X_train, X_test, y_train, y_test = train_test_split(X, y, test_size=0.2, random_state=42)\n",
    "\n"
   ],
   "outputs": [],
   "execution_count": 10
  },
  {
   "metadata": {
    "ExecuteTime": {
     "end_time": "2025-08-04T10:20:08.259482Z",
     "start_time": "2025-08-04T10:20:08.235144Z"
    }
   },
   "cell_type": "code",
   "source": [
    "model = RandomForestRegressor(\n",
    "    n_estimators=200,\n",
    "    random_state=42\n",
    ")\n",
    "\n",
    "model.fit(X_train, y_train)\n",
    "predictions = model.predict(X_test)\n",
    "\n",
    "mae = mean_absolute_error(y_test, predictions)\n",
    "print(\"Mean Absolute Error:\", mae)\n",
    "\n",
    "results = pd.DataFrame({\"Actual\": y_test[:10].values,\n",
    "                        \"Predicted\": predictions[:10]})\n",
    "\n",
    "print(results)"
   ],
   "id": "e20f0de5e866e685",
   "outputs": [
    {
     "ename": "ValueError",
     "evalue": "could not convert string to float: 'NORTH EAST'",
     "output_type": "error",
     "traceback": [
      "\u001B[31m---------------------------------------------------------------------------\u001B[39m",
      "\u001B[31mValueError\u001B[39m                                Traceback (most recent call last)",
      "\u001B[32m~\\AppData\\Local\\Temp\\ipykernel_30144\\665934411.py\u001B[39m in \u001B[36m?\u001B[39m\u001B[34m()\u001B[39m\n\u001B[32m      2\u001B[39m     n_estimators=\u001B[32m200\u001B[39m,\n\u001B[32m      3\u001B[39m     random_state=\u001B[32m42\u001B[39m\n\u001B[32m      4\u001B[39m )\n\u001B[32m      5\u001B[39m \n\u001B[32m----> \u001B[39m\u001B[32m6\u001B[39m model.fit(X_train, y_train)\n\u001B[32m      7\u001B[39m predictions = model.predict(X_test)\n\u001B[32m      8\u001B[39m \n\u001B[32m      9\u001B[39m mae = mean_absolute_error(y_test, predictions)\n",
      "\u001B[32m~\\AppData\\Roaming\\Python\\Python313\\site-packages\\sklearn\\base.py\u001B[39m in \u001B[36m?\u001B[39m\u001B[34m(estimator, *args, **kwargs)\u001B[39m\n\u001B[32m   1361\u001B[39m                 skip_parameter_validation=(\n\u001B[32m   1362\u001B[39m                     prefer_skip_nested_validation \u001B[38;5;28;01mor\u001B[39;00m global_skip_validation\n\u001B[32m   1363\u001B[39m                 )\n\u001B[32m   1364\u001B[39m             ):\n\u001B[32m-> \u001B[39m\u001B[32m1365\u001B[39m                 \u001B[38;5;28;01mreturn\u001B[39;00m fit_method(estimator, *args, **kwargs)\n",
      "\u001B[32m~\\AppData\\Roaming\\Python\\Python313\\site-packages\\sklearn\\ensemble\\_forest.py\u001B[39m in \u001B[36m?\u001B[39m\u001B[34m(self, X, y, sample_weight)\u001B[39m\n\u001B[32m    355\u001B[39m         \u001B[38;5;66;03m# Validate or convert input data\u001B[39;00m\n\u001B[32m    356\u001B[39m         \u001B[38;5;28;01mif\u001B[39;00m issparse(y):\n\u001B[32m    357\u001B[39m             \u001B[38;5;28;01mraise\u001B[39;00m ValueError(\u001B[33m\"sparse multilabel-indicator for y is not supported.\"\u001B[39m)\n\u001B[32m    358\u001B[39m \n\u001B[32m--> \u001B[39m\u001B[32m359\u001B[39m         X, y = validate_data(\n\u001B[32m    360\u001B[39m             self,\n\u001B[32m    361\u001B[39m             X,\n\u001B[32m    362\u001B[39m             y,\n",
      "\u001B[32m~\\AppData\\Roaming\\Python\\Python313\\site-packages\\sklearn\\utils\\validation.py\u001B[39m in \u001B[36m?\u001B[39m\u001B[34m(_estimator, X, y, reset, validate_separately, skip_check_array, **check_params)\u001B[39m\n\u001B[32m   2967\u001B[39m             \u001B[38;5;28;01mif\u001B[39;00m \u001B[33m\"estimator\"\u001B[39m \u001B[38;5;28;01mnot\u001B[39;00m \u001B[38;5;28;01min\u001B[39;00m check_y_params:\n\u001B[32m   2968\u001B[39m                 check_y_params = {**default_check_params, **check_y_params}\n\u001B[32m   2969\u001B[39m             y = check_array(y, input_name=\u001B[33m\"y\"\u001B[39m, **check_y_params)\n\u001B[32m   2970\u001B[39m         \u001B[38;5;28;01melse\u001B[39;00m:\n\u001B[32m-> \u001B[39m\u001B[32m2971\u001B[39m             X, y = check_X_y(X, y, **check_params)\n\u001B[32m   2972\u001B[39m         out = X, y\n\u001B[32m   2973\u001B[39m \n\u001B[32m   2974\u001B[39m     \u001B[38;5;28;01mif\u001B[39;00m \u001B[38;5;28;01mnot\u001B[39;00m no_val_X \u001B[38;5;28;01mand\u001B[39;00m check_params.get(\u001B[33m\"ensure_2d\"\u001B[39m, \u001B[38;5;28;01mTrue\u001B[39;00m):\n",
      "\u001B[32m~\\AppData\\Roaming\\Python\\Python313\\site-packages\\sklearn\\utils\\validation.py\u001B[39m in \u001B[36m?\u001B[39m\u001B[34m(X, y, accept_sparse, accept_large_sparse, dtype, order, copy, force_writeable, force_all_finite, ensure_all_finite, ensure_2d, allow_nd, multi_output, ensure_min_samples, ensure_min_features, y_numeric, estimator)\u001B[39m\n\u001B[32m   1364\u001B[39m         )\n\u001B[32m   1365\u001B[39m \n\u001B[32m   1366\u001B[39m     ensure_all_finite = _deprecate_force_all_finite(force_all_finite, ensure_all_finite)\n\u001B[32m   1367\u001B[39m \n\u001B[32m-> \u001B[39m\u001B[32m1368\u001B[39m     X = check_array(\n\u001B[32m   1369\u001B[39m         X,\n\u001B[32m   1370\u001B[39m         accept_sparse=accept_sparse,\n\u001B[32m   1371\u001B[39m         accept_large_sparse=accept_large_sparse,\n",
      "\u001B[32m~\\AppData\\Roaming\\Python\\Python313\\site-packages\\sklearn\\utils\\validation.py\u001B[39m in \u001B[36m?\u001B[39m\u001B[34m(array, accept_sparse, accept_large_sparse, dtype, order, copy, force_writeable, force_all_finite, ensure_all_finite, ensure_non_negative, ensure_2d, allow_nd, ensure_min_samples, ensure_min_features, estimator, input_name)\u001B[39m\n\u001B[32m   1050\u001B[39m                         )\n\u001B[32m   1051\u001B[39m                     array = xp.astype(array, dtype, copy=\u001B[38;5;28;01mFalse\u001B[39;00m)\n\u001B[32m   1052\u001B[39m                 \u001B[38;5;28;01melse\u001B[39;00m:\n\u001B[32m   1053\u001B[39m                     array = _asarray_with_order(array, order=order, dtype=dtype, xp=xp)\n\u001B[32m-> \u001B[39m\u001B[32m1054\u001B[39m             \u001B[38;5;28;01mexcept\u001B[39;00m ComplexWarning \u001B[38;5;28;01mas\u001B[39;00m complex_warning:\n\u001B[32m   1055\u001B[39m                 raise ValueError(\n\u001B[32m   1056\u001B[39m                     \u001B[33m\"Complex data not supported\\n{}\\n\"\u001B[39m.format(array)\n\u001B[32m   1057\u001B[39m                 ) \u001B[38;5;28;01mfrom\u001B[39;00m complex_warning\n",
      "\u001B[32m~\\AppData\\Roaming\\Python\\Python313\\site-packages\\sklearn\\utils\\_array_api.py\u001B[39m in \u001B[36m?\u001B[39m\u001B[34m(array, dtype, order, copy, xp, device)\u001B[39m\n\u001B[32m    753\u001B[39m         \u001B[38;5;66;03m# Use NumPy API to support order\u001B[39;00m\n\u001B[32m    754\u001B[39m         \u001B[38;5;28;01mif\u001B[39;00m copy \u001B[38;5;28;01mis\u001B[39;00m \u001B[38;5;28;01mTrue\u001B[39;00m:\n\u001B[32m    755\u001B[39m             array = numpy.array(array, order=order, dtype=dtype)\n\u001B[32m    756\u001B[39m         \u001B[38;5;28;01melse\u001B[39;00m:\n\u001B[32m--> \u001B[39m\u001B[32m757\u001B[39m             array = numpy.asarray(array, order=order, dtype=dtype)\n\u001B[32m    758\u001B[39m \n\u001B[32m    759\u001B[39m         \u001B[38;5;66;03m# At this point array is a NumPy ndarray. We convert it to an array\u001B[39;00m\n\u001B[32m    760\u001B[39m         \u001B[38;5;66;03m# container that is consistent with the input's namespace.\u001B[39;00m\n",
      "\u001B[32m~\\AppData\\Roaming\\Python\\Python313\\site-packages\\pandas\\core\\generic.py\u001B[39m in \u001B[36m?\u001B[39m\u001B[34m(self, dtype, copy)\u001B[39m\n\u001B[32m   2164\u001B[39m             )\n\u001B[32m   2165\u001B[39m         values = self._values\n\u001B[32m   2166\u001B[39m         \u001B[38;5;28;01mif\u001B[39;00m copy \u001B[38;5;28;01mis\u001B[39;00m \u001B[38;5;28;01mNone\u001B[39;00m:\n\u001B[32m   2167\u001B[39m             \u001B[38;5;66;03m# Note: branch avoids `copy=None` for NumPy 1.x support\u001B[39;00m\n\u001B[32m-> \u001B[39m\u001B[32m2168\u001B[39m             arr = np.asarray(values, dtype=dtype)\n\u001B[32m   2169\u001B[39m         \u001B[38;5;28;01melse\u001B[39;00m:\n\u001B[32m   2170\u001B[39m             arr = np.array(values, dtype=dtype, copy=copy)\n\u001B[32m   2171\u001B[39m \n",
      "\u001B[31mValueError\u001B[39m: could not convert string to float: 'NORTH EAST'"
     ]
    }
   ],
   "execution_count": 12
  }
 ],
 "metadata": {
  "kernelspec": {
   "display_name": "Python 3",
   "language": "python",
   "name": "python3"
  },
  "language_info": {
   "codemirror_mode": {
    "name": "ipython",
    "version": 2
   },
   "file_extension": ".py",
   "mimetype": "text/x-python",
   "name": "python",
   "nbconvert_exporter": "python",
   "pygments_lexer": "ipython2",
   "version": "2.7.6"
  }
 },
 "nbformat": 4,
 "nbformat_minor": 5
}
