{
 "cells": [
  {
   "metadata": {},
   "cell_type": "markdown",
   "source": "### **DATA COLLECTION**",
   "id": "95dbbaa4abaa5918"
  },
  {
   "cell_type": "code",
   "id": "initial_id",
   "metadata": {
    "collapsed": true,
    "ExecuteTime": {
     "end_time": "2025-08-04T07:10:45.490359Z",
     "start_time": "2025-08-04T07:10:45.450682Z"
    }
   },
   "source": [
    "import pandas as pd\n",
    "from sklearn.model_selection import train_test_split\n",
    "from win32com.client import constants\n",
    "\n",
    "data = pd.read_csv('melb_data.csv')\n",
    "\n",
    "y = data.Price\n",
    "X = data.drop(['Price'] , axis=1)\n",
    "\n",
    "X_train, X_test, y_train, y_test = train_test_split(X, y, test_size=0.2, random_state=42)\n",
    "\n",
    "#cardinality means no. of unique values in column\n",
    "cat_cols = [cname for cname in X_train.columns\n",
    "            if X_train[cname].nunique() < 10 and\n",
    "            X_train[cname].dtype == 'object']\n",
    "\n",
    "#number colums\n",
    "num_cols = [cname for cname in X_train.columns\n",
    "            if X_train[cname].dtype in ['int64', 'float64']]\n",
    "\n",
    "my_cols = cat_cols + num_cols\n",
    "X_train = X_train[my_cols].copy()\n",
    "X_test = X_test[my_cols].copy()"
   ],
   "outputs": [],
   "execution_count": 33
  },
  {
   "metadata": {
    "ExecuteTime": {
     "end_time": "2025-08-04T07:10:45.505288Z",
     "start_time": "2025-08-04T07:10:45.495457Z"
    }
   },
   "cell_type": "code",
   "source": "X_train.head()\n",
   "id": "a702cee5c2567091",
   "outputs": [
    {
     "data": {
      "text/plain": [
       "      Type Method             Regionname  Rooms  Distance  Postcode  Bedroom2  \\\n",
       "12796    h      S   Eastern Metropolitan      4      14.2    3149.0       4.0   \n",
       "9642     h      S   Eastern Metropolitan      3      14.2    3149.0       3.0   \n",
       "3207     u      S  Southern Metropolitan      2       4.6    3122.0       2.0   \n",
       "1698     u      S  Northern Metropolitan      2       3.2    3054.0       2.0   \n",
       "761      h      S  Southern Metropolitan      4      13.0    3204.0       4.0   \n",
       "\n",
       "       Bathroom  Car  Landsize  BuildingArea  YearBuilt  Lattitude  \\\n",
       "12796       2.0  2.0     695.0         160.0     1970.0  -37.86127   \n",
       "9642        1.0  2.0     810.0           NaN        NaN  -37.86838   \n",
       "3207        1.0  1.0      82.0           NaN        NaN  -37.81800   \n",
       "1698        1.0  1.0       0.0          76.0     1975.0  -37.79020   \n",
       "761         2.0  1.0     292.0           NaN        NaN  -37.91480   \n",
       "\n",
       "       Longtitude  Propertycount  \n",
       "12796   145.14271        13366.0  \n",
       "9642    145.14664        13366.0  \n",
       "3207    145.02680        11308.0  \n",
       "1698    144.97000         3106.0  \n",
       "761     145.02430         6795.0  "
      ],
      "text/html": [
       "<div>\n",
       "<style scoped>\n",
       "    .dataframe tbody tr th:only-of-type {\n",
       "        vertical-align: middle;\n",
       "    }\n",
       "\n",
       "    .dataframe tbody tr th {\n",
       "        vertical-align: top;\n",
       "    }\n",
       "\n",
       "    .dataframe thead th {\n",
       "        text-align: right;\n",
       "    }\n",
       "</style>\n",
       "<table border=\"1\" class=\"dataframe\">\n",
       "  <thead>\n",
       "    <tr style=\"text-align: right;\">\n",
       "      <th></th>\n",
       "      <th>Type</th>\n",
       "      <th>Method</th>\n",
       "      <th>Regionname</th>\n",
       "      <th>Rooms</th>\n",
       "      <th>Distance</th>\n",
       "      <th>Postcode</th>\n",
       "      <th>Bedroom2</th>\n",
       "      <th>Bathroom</th>\n",
       "      <th>Car</th>\n",
       "      <th>Landsize</th>\n",
       "      <th>BuildingArea</th>\n",
       "      <th>YearBuilt</th>\n",
       "      <th>Lattitude</th>\n",
       "      <th>Longtitude</th>\n",
       "      <th>Propertycount</th>\n",
       "    </tr>\n",
       "  </thead>\n",
       "  <tbody>\n",
       "    <tr>\n",
       "      <th>12796</th>\n",
       "      <td>h</td>\n",
       "      <td>S</td>\n",
       "      <td>Eastern Metropolitan</td>\n",
       "      <td>4</td>\n",
       "      <td>14.2</td>\n",
       "      <td>3149.0</td>\n",
       "      <td>4.0</td>\n",
       "      <td>2.0</td>\n",
       "      <td>2.0</td>\n",
       "      <td>695.0</td>\n",
       "      <td>160.0</td>\n",
       "      <td>1970.0</td>\n",
       "      <td>-37.86127</td>\n",
       "      <td>145.14271</td>\n",
       "      <td>13366.0</td>\n",
       "    </tr>\n",
       "    <tr>\n",
       "      <th>9642</th>\n",
       "      <td>h</td>\n",
       "      <td>S</td>\n",
       "      <td>Eastern Metropolitan</td>\n",
       "      <td>3</td>\n",
       "      <td>14.2</td>\n",
       "      <td>3149.0</td>\n",
       "      <td>3.0</td>\n",
       "      <td>1.0</td>\n",
       "      <td>2.0</td>\n",
       "      <td>810.0</td>\n",
       "      <td>NaN</td>\n",
       "      <td>NaN</td>\n",
       "      <td>-37.86838</td>\n",
       "      <td>145.14664</td>\n",
       "      <td>13366.0</td>\n",
       "    </tr>\n",
       "    <tr>\n",
       "      <th>3207</th>\n",
       "      <td>u</td>\n",
       "      <td>S</td>\n",
       "      <td>Southern Metropolitan</td>\n",
       "      <td>2</td>\n",
       "      <td>4.6</td>\n",
       "      <td>3122.0</td>\n",
       "      <td>2.0</td>\n",
       "      <td>1.0</td>\n",
       "      <td>1.0</td>\n",
       "      <td>82.0</td>\n",
       "      <td>NaN</td>\n",
       "      <td>NaN</td>\n",
       "      <td>-37.81800</td>\n",
       "      <td>145.02680</td>\n",
       "      <td>11308.0</td>\n",
       "    </tr>\n",
       "    <tr>\n",
       "      <th>1698</th>\n",
       "      <td>u</td>\n",
       "      <td>S</td>\n",
       "      <td>Northern Metropolitan</td>\n",
       "      <td>2</td>\n",
       "      <td>3.2</td>\n",
       "      <td>3054.0</td>\n",
       "      <td>2.0</td>\n",
       "      <td>1.0</td>\n",
       "      <td>1.0</td>\n",
       "      <td>0.0</td>\n",
       "      <td>76.0</td>\n",
       "      <td>1975.0</td>\n",
       "      <td>-37.79020</td>\n",
       "      <td>144.97000</td>\n",
       "      <td>3106.0</td>\n",
       "    </tr>\n",
       "    <tr>\n",
       "      <th>761</th>\n",
       "      <td>h</td>\n",
       "      <td>S</td>\n",
       "      <td>Southern Metropolitan</td>\n",
       "      <td>4</td>\n",
       "      <td>13.0</td>\n",
       "      <td>3204.0</td>\n",
       "      <td>4.0</td>\n",
       "      <td>2.0</td>\n",
       "      <td>1.0</td>\n",
       "      <td>292.0</td>\n",
       "      <td>NaN</td>\n",
       "      <td>NaN</td>\n",
       "      <td>-37.91480</td>\n",
       "      <td>145.02430</td>\n",
       "      <td>6795.0</td>\n",
       "    </tr>\n",
       "  </tbody>\n",
       "</table>\n",
       "</div>"
      ]
     },
     "execution_count": 34,
     "metadata": {},
     "output_type": "execute_result"
    }
   ],
   "execution_count": 34
  },
  {
   "metadata": {},
   "cell_type": "markdown",
   "source": "### **DATA PREPROCESSING**",
   "id": "92cecaae3beabce8"
  },
  {
   "metadata": {
    "ExecuteTime": {
     "end_time": "2025-08-04T07:10:45.513238Z",
     "start_time": "2025-08-04T07:10:45.510223Z"
    }
   },
   "cell_type": "code",
   "source": [
    "from sklearn.compose import ColumnTransformer\n",
    "from sklearn.pipeline import Pipeline\n",
    "from  sklearn.impute import SimpleImputer\n",
    "from sklearn.preprocessing import OneHotEncoder\n",
    "\n",
    "#preprocessing for numericals data\n",
    "numeric_transformer = SimpleImputer(strategy='constant')\n",
    "\n",
    "#preprocessing for categorical data\n",
    "categorical_transformer = Pipeline(steps=[\n",
    "    ('imputer', SimpleImputer(strategy='most_frequent')),\n",
    "    ('onehot', OneHotEncoder(handle_unknown='ignore'))\n",
    "])\n",
    "\n",
    "#preprocessing for all\n",
    "preprocessor = ColumnTransformer(\n",
    "    [ ('num', numeric_transformer, num_cols),\n",
    "      ('cat', categorical_transformer, my_cols),]\n",
    ")"
   ],
   "id": "29e49d29a20500a8",
   "outputs": [],
   "execution_count": 35
  },
  {
   "metadata": {},
   "cell_type": "markdown",
   "source": "### ***MODEL SELECTION***",
   "id": "c71d3cec54db900b"
  },
  {
   "metadata": {
    "ExecuteTime": {
     "end_time": "2025-08-04T07:10:45.521745Z",
     "start_time": "2025-08-04T07:10:45.519310Z"
    }
   },
   "cell_type": "code",
   "source": [
    "from sklearn.ensemble import RandomForestRegressor\n",
    "\n",
    "model = RandomForestRegressor(n_estimators=10,random_state=42)"
   ],
   "id": "b035108427fb68ce",
   "outputs": [],
   "execution_count": 36
  },
  {
   "metadata": {},
   "cell_type": "markdown",
   "source": "### ***EVALUATION***",
   "id": "a414ef30c422861d"
  },
  {
   "metadata": {
    "ExecuteTime": {
     "end_time": "2025-08-04T07:10:56.868565Z",
     "start_time": "2025-08-04T07:10:45.528554Z"
    }
   },
   "cell_type": "code",
   "source": [
    "from sklearn.metrics import mean_absolute_error\n",
    "\n",
    "#bundling first pp and model\n",
    "my_pipeline = Pipeline(steps=[('preprocessor', preprocessor),\n",
    "                               ('model', model)\n",
    "                              ])\n",
    "#fit the train data\n",
    "my_pipeline.fit(X_train, y_train)\n",
    "# Preprocessing of validation data, get predictions\n",
    "preds = my_pipeline.predict(X_test)\n",
    "\n",
    "#evaluate\n",
    "score = mean_absolute_error(y_test, preds)\n",
    "print(\"MAE IS \", score)\n",
    "\n",
    "\n"
   ],
   "id": "68fc01861789422",
   "outputs": [
    {
     "name": "stdout",
     "output_type": "stream",
     "text": [
      "MAE IS  170393.65325233186\n"
     ]
    }
   ],
   "execution_count": 37
  },
  {
   "metadata": {
    "ExecuteTime": {
     "end_time": "2025-08-04T07:10:56.879704Z",
     "start_time": "2025-08-04T07:10:56.877541Z"
    }
   },
   "cell_type": "code",
   "source": "from sklearn.tree import DecisionTreeRegressor\n",
   "id": "5bb831fd229e0e34",
   "outputs": [],
   "execution_count": null
  }
 ],
 "metadata": {
  "kernelspec": {
   "display_name": "Python 3",
   "language": "python",
   "name": "python3"
  },
  "language_info": {
   "codemirror_mode": {
    "name": "ipython",
    "version": 2
   },
   "file_extension": ".py",
   "mimetype": "text/x-python",
   "name": "python",
   "nbconvert_exporter": "python",
   "pygments_lexer": "ipython2",
   "version": "2.7.6"
  }
 },
 "nbformat": 4,
 "nbformat_minor": 5
}
